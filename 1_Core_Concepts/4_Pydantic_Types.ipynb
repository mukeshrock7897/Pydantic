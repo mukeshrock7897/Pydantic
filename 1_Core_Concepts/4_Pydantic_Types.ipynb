{
 "cells": [
  {
   "cell_type": "markdown",
   "metadata": {},
   "source": [
    "\n",
    "---\n",
    "\n",
    "# 🧩 Pydantic Types\n",
    "\n",
    "### 🎯 Intent\n",
    "\n",
    "Use Pydantic’s **built-in types** for common real-world data like emails, URLs, UUIDs, and payment cards — so you don’t reinvent validation.\n",
    "\n",
    "---\n",
    "\n",
    "### 🧩 Core Components\n",
    "\n",
    "1. **📧 EmailStr**\n",
    "\n",
    "   * Ensures valid email format.\n",
    "   * Rejects invalid addresses automatically.\n",
    "\n",
    "2. **🔗 AnyUrl & HttpUrl**\n",
    "\n",
    "   * `AnyUrl` → accepts any valid URL.\n",
    "   * `HttpUrl` → restricted to HTTP/HTTPS only.\n",
    "\n",
    "3. **🆔 UUID**\n",
    "\n",
    "   * Parses and validates UUID strings.\n",
    "   * Stored as a `uuid.UUID` object internally.\n",
    "\n",
    "4. **💳 PaymentCardNumber**\n",
    "\n",
    "   * Validates credit/debit card numbers.\n",
    "   * Includes length + checksum checks.\n",
    "\n",
    "5. **📅 Date & Time Types**\n",
    "\n",
    "   * `PastDate`, `FutureDate`, `AwareDatetime` → strict temporal validation.\n",
    "   * Also includes types for IPs, colors, secrets, etc.\n",
    "\n",
    "\n",
    "---\n"
   ]
  },
  {
   "cell_type": "markdown",
   "metadata": {},
   "source": []
  }
 ],
 "metadata": {
  "language_info": {
   "name": "python"
  }
 },
 "nbformat": 4,
 "nbformat_minor": 2
}
