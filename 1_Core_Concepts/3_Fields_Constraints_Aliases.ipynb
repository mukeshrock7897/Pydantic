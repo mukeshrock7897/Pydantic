{
 "cells": [
  {
   "cell_type": "markdown",
   "metadata": {},
   "source": [
    "\n",
    "---\n",
    "\n",
    "# 🎛️ Fields, Constraints & Aliases\n",
    "\n",
    "### 🎯 Intent\n",
    "\n",
    "Add **rules, defaults, and alternative names** to model fields for stronger validation and flexibility.\n",
    "\n",
    "---\n",
    "\n",
    "### 🧩 Core Components\n",
    "\n",
    "1. **📌 Field Constraints**\n",
    "\n",
    "   * `Field()` adds extra rules.\n",
    "   * Examples: `min_length`, `max_length`, `ge` (≥), `le` (≤).\n",
    "\n",
    "2. **🔄 Aliases**\n",
    "\n",
    "   * Use alternative names for input/output.\n",
    "   * Example: accept `\"product_code\"` but use `sku` internally.\n",
    "\n",
    "3. **🧱 Default Values**\n",
    "\n",
    "   * Provide defaults inline or with `Field(default=...)`.\n",
    "   * Required fields → `Field(...)`.\n",
    "\n",
    "4. **🛡 Descriptions & Metadata**\n",
    "\n",
    "   * Add `description`, `title`, `examples`.\n",
    "   * Helpful for API docs & JSON Schema generation.\n",
    "\n",
    "5. **⚡ Strictness & Extra Config**\n",
    "\n",
    "   * Combine constraints with strict types (`StrictInt`, `StrictStr`).\n",
    "   * Example: only integers allowed, no coercion.\n",
    "\n",
    "---\n"
   ]
  },
  {
   "cell_type": "code",
   "execution_count": 1,
   "metadata": {},
   "outputs": [
    {
     "name": "stdout",
     "output_type": "stream",
     "text": [
      "{'name': 'Laptop', 'price': 1200.5, 'sku': 'SKU123', 'stock': 10, 'category': 'electronics'}\n",
      "{'name': 'Laptop', 'price': 1200.5, 'product_code': 'SKU123', 'stock': 10, 'category': 'electronics'}\n"
     ]
    }
   ],
   "source": [
    "from pydantic import BaseModel, Field, StrictInt, StrictStr\n",
    "\n",
    "class Product(BaseModel):\n",
    "    # 📌 Field Constraints\n",
    "    name: StrictStr = Field(..., min_length=2, max_length=50, description=\"Product name\")\n",
    "    price: float = Field(..., ge=0, le=10000, description=\"Price must be between 0–10000\")\n",
    "    \n",
    "    # 🔄 Aliases\n",
    "    sku: str = Field(..., alias=\"product_code\", description=\"Internal product code\")\n",
    "    \n",
    "    # 🧱 Default Values\n",
    "    stock: StrictInt = Field(default=0, ge=0, description=\"Stock count (default 0)\")\n",
    "    \n",
    "    # 🛡 Metadata for docs\n",
    "    category: str = Field(\n",
    "        default=\"general\",\n",
    "        description=\"Product category\",\n",
    "        examples=[\"electronics\", \"clothing\"]\n",
    "    )\n",
    "\n",
    "# ✅ Example: Using alias (input with product_code)\n",
    "p = Product(\n",
    "    name=\"Laptop\",\n",
    "    price=1200.5,\n",
    "    product_code=\"SKU123\",\n",
    "    stock=10,\n",
    "    category=\"electronics\"\n",
    ")\n",
    "\n",
    "print(p.model_dump())             # Internal representation\n",
    "print(p.model_dump(by_alias=True)) # With alias names (API-friendly)\n"
   ]
  }
 ],
 "metadata": {
  "kernelspec": {
   "display_name": "genai-doc-chat",
   "language": "python",
   "name": "python3"
  },
  "language_info": {
   "codemirror_mode": {
    "name": "ipython",
    "version": 3
   },
   "file_extension": ".py",
   "mimetype": "text/x-python",
   "name": "python",
   "nbconvert_exporter": "python",
   "pygments_lexer": "ipython3",
   "version": "3.11.8"
  }
 },
 "nbformat": 4,
 "nbformat_minor": 2
}
