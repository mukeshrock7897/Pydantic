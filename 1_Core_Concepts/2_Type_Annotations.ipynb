{
 "cells": [
  {
   "cell_type": "markdown",
   "metadata": {},
   "source": [
    "\n",
    "---\n",
    "\n",
    "# 🔤 Type Annotations\n",
    "\n",
    "### 🎯 Intent\n",
    "\n",
    "* Type annotations mean explicitly declaring the type of a variable, a function’s argument\n",
    "* In Pydantic, type annotations are used to make your data more type-safe and automatically validated.\n",
    "* they help ensure correctness, improve readability, and make it easier for you and your team to maintain and understand the code\n",
    "---\n",
    "\n",
    "### 🧩 Core Components\n",
    "\n",
    "1. **📝 Basic Types**\n",
    "\n",
    "   * Supports `int`, `str`, `float`, `bool`, `list`, `dict`, etc.\n",
    "   * Values are auto-converted when possible.\n",
    "\n",
    "2. **📦 Optional & Union**\n",
    "\n",
    "   * `Optional[str]` → accepts `str` or `None`.\n",
    "   * `Union[int, str]` → accepts multiple types.\n",
    "\n",
    "3. **📋 Collections**\n",
    "\n",
    "   * Supports `list[int]`, `dict[str, float]`, `set[str]`, etc.\n",
    "   * Nested types validated recursively.\n",
    "\n",
    "4. **🔒 Strict Types**\n",
    "\n",
    "   * Use `StrictInt`, `StrictStr` to prevent coercion.\n",
    "   * Example: `\"1\"` ❌ (will not auto-convert to `1`).\n",
    "\n",
    "5. **🧱 Literals & Enums**\n",
    "\n",
    "   * `Literal[\"admin\", \"user\"]` restricts to fixed values.\n",
    "   * `Enum` works seamlessly for roles, statuses, etc.\n",
    "\n",
    "---\n"
   ]
  },
  {
   "cell_type": "code",
   "execution_count": 1,
   "metadata": {},
   "outputs": [
    {
     "name": "stdout",
     "output_type": "stream",
     "text": [
      "{'id': 1, 'name': 'Mukesh', 'age': None, 'score': 95.5, 'tags': ['pydantic', 'python'], 'ratings': {'math': 4.5, 'science': 4.8}, 'code': 101, 'title': 'Engineer', 'role': 'admin', 'role_enum': <Role.ADMIN: 'admin'>}\n"
     ]
    }
   ],
   "source": [
    "from typing import Optional, Union, Literal\n",
    "from enum import Enum\n",
    "from pydantic import BaseModel, StrictInt, StrictStr\n",
    "\n",
    "# 🧱 Enum Example\n",
    "class Role(str, Enum):\n",
    "    ADMIN = \"admin\"\n",
    "    USER = \"user\"\n",
    "\n",
    "# 📝 Pydantic Model using Type Annotations\n",
    "class User(BaseModel):\n",
    "    id: int                        # basic type → auto-converts \"1\" → 1\n",
    "    name: str                      # must be a string\n",
    "    age: Optional[int] = None      # optional → int or None\n",
    "    score: Union[int, float]       # accepts int or float\n",
    "    tags: list[str]                # collection → list of strings\n",
    "    ratings: dict[str, float]      # dict with str keys and float values\n",
    "    code: StrictInt                # strict → must be int (no auto-convert)\n",
    "    title: StrictStr               # strict → must be str\n",
    "    role: Literal[\"admin\", \"user\"] # literal fixed values\n",
    "    role_enum: Role                # enum usage\n",
    "\n",
    "# ✅ Example: Valid Input\n",
    "user = User(\n",
    "    id=\"1\",           # auto-converted to int\n",
    "    name=\"Mukesh\",\n",
    "    score=95.5,\n",
    "    tags=[\"pydantic\", \"python\"],\n",
    "    ratings={\"math\": 4.5, \"science\": 4.8},\n",
    "    code=101,         # must be int, \"101\" ❌ would fail\n",
    "    title=\"Engineer\", # must be string\n",
    "    role=\"admin\",     # valid literal\n",
    "    role_enum=Role.ADMIN\n",
    ")\n",
    "\n",
    "print(user.model_dump())\n"
   ]
  },
  {
   "cell_type": "code",
   "execution_count": null,
   "metadata": {},
   "outputs": [],
   "source": []
  }
 ],
 "metadata": {
  "kernelspec": {
   "display_name": "genai-doc-chat",
   "language": "python",
   "name": "python3"
  },
  "language_info": {
   "codemirror_mode": {
    "name": "ipython",
    "version": 3
   },
   "file_extension": ".py",
   "mimetype": "text/x-python",
   "name": "python",
   "nbconvert_exporter": "python",
   "pygments_lexer": "ipython3",
   "version": "3.11.8"
  }
 },
 "nbformat": 4,
 "nbformat_minor": 2
}
