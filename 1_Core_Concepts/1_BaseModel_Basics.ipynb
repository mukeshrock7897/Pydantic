{
 "cells": [
  {
   "cell_type": "markdown",
   "metadata": {},
   "source": [
    "\n",
    "---\n",
    "\n",
    "# 🏗️ BaseModel Basics\n",
    "\n",
    "### 🎯 Intent\n",
    "\n",
    "* BaseModel is essentially the core concept of Pydantic, where you define a structured data schema. \n",
    "* You set fields and their types so that your data is validated and always remains in a consistent format.\n",
    "---\n",
    "\n",
    "### 🧩 Core Components\n",
    "\n",
    "1. **📝 BaseModel**\n",
    "\n",
    "   * Define models by subclassing `BaseModel`.\n",
    "   * Fields are declared using Python type hints.\n",
    "\n",
    "2. **⚡ Validation**\n",
    "\n",
    "   * Automatically converts compatible values (e.g., `\"1\"` → `1`).\n",
    "   * Raises `ValidationError` if input fails type or constraint checks.\n",
    "\n",
    "3. **📥 Required vs Defaults**\n",
    "\n",
    "   * Fields without defaults = required.\n",
    "   * Use default values or `Optional[...]` to make fields optional.\n",
    "\n",
    "4. **📤 Serialization**\n",
    "\n",
    "   * `.model_dump()` → dict\n",
    "   * `.model_dump_json()` → JSON string\n",
    "\n",
    "5. **🔍 Helpers**\n",
    "\n",
    "   * `.model_validate(obj)` → create model from dict/JSON.\n",
    "   * `.model_fields` → inspect schema metadata.\n",
    "\n",
    "---\n"
   ]
  },
  {
   "cell_type": "code",
   "execution_count": 1,
   "metadata": {},
   "outputs": [
    {
     "name": "stdout",
     "output_type": "stream",
     "text": [
      "id=1 name='Mukesh' email=None\n",
      "{'id': 1, 'name': 'Mukesh', 'email': None}\n",
      "{\"id\":1,\"name\":\"Mukesh\",\"email\":null}\n",
      "[{'type': 'int_parsing', 'loc': ('id',), 'msg': 'Input should be a valid integer, unable to parse string as an integer', 'input': 'abc', 'url': 'https://errors.pydantic.dev/2.11/v/int_parsing'}]\n"
     ]
    }
   ],
   "source": [
    "from pydantic import BaseModel, ValidationError\n",
    "from typing import Optional\n",
    "\n",
    "# 📝 Define a model\n",
    "class User(BaseModel):\n",
    "    id: int\n",
    "    name: str\n",
    "    email: Optional[str] = None  # optional field with default None\n",
    "\n",
    "# ⚡ Validation & Coercion\n",
    "user = User.model_validate({\"id\": \"1\", \"name\": \"Mukesh\"})\n",
    "print(user)  \n",
    "# → id=1 name='Mukesh' email=None   (string \"1\" auto-converted to int)\n",
    "\n",
    "# 📤 Serialization\n",
    "print(user.model_dump())       \n",
    "# → {'id': 1, 'name': 'Mukesh', 'email': None}\n",
    "\n",
    "print(user.model_dump_json())  \n",
    "# → {\"id\": 1, \"name\": \"Mukesh\", \"email\": null}\n",
    "\n",
    "# ❌ Invalid input raises error\n",
    "try:\n",
    "    User.model_validate({\"id\": \"abc\", \"name\": \"\"})\n",
    "except ValidationError as e:\n",
    "    print(e.errors())\n"
   ]
  }
 ],
 "metadata": {
  "kernelspec": {
   "display_name": "genai-doc-chat",
   "language": "python",
   "name": "python3"
  },
  "language_info": {
   "codemirror_mode": {
    "name": "ipython",
    "version": 3
   },
   "file_extension": ".py",
   "mimetype": "text/x-python",
   "name": "python",
   "nbconvert_exporter": "python",
   "pygments_lexer": "ipython3",
   "version": "3.11.8"
  }
 },
 "nbformat": 4,
 "nbformat_minor": 2
}
