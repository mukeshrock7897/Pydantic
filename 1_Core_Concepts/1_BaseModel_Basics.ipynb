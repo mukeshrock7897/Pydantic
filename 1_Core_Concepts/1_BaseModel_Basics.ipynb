{
 "cells": [
  {
   "cell_type": "markdown",
   "metadata": {},
   "source": [
    "\n",
    "---\n",
    "\n",
    "# 🏗️ BaseModel Basics\n",
    "\n",
    "### 🎯 Intent\n",
    "\n",
    "Understand the **foundation of Pydantic models**: how to create them with `BaseModel`, validate input, and serialize output.\n",
    "\n",
    "---\n",
    "\n",
    "### 🧩 Core Components\n",
    "\n",
    "1. **📝 BaseModel**\n",
    "\n",
    "   * Define models by subclassing `BaseModel`.\n",
    "   * Fields are declared using Python type hints.\n",
    "\n",
    "2. **⚡ Validation**\n",
    "\n",
    "   * Automatically converts compatible values (e.g., `\"1\"` → `1`).\n",
    "   * Raises `ValidationError` if input fails type or constraint checks.\n",
    "\n",
    "3. **📥 Required vs Defaults**\n",
    "\n",
    "   * Fields without defaults = required.\n",
    "   * Use default values or `Optional[...]` to make fields optional.\n",
    "\n",
    "4. **📤 Serialization**\n",
    "\n",
    "   * `.model_dump()` → dict\n",
    "   * `.model_dump_json()` → JSON string\n",
    "\n",
    "5. **🔍 Helpers**\n",
    "\n",
    "   * `.model_validate(obj)` → create model from dict/JSON.\n",
    "   * `.model_fields` → inspect schema metadata.\n",
    "\n",
    "---\n",
    "\n",
    "✅ With this, you can build your **first structured, validated models**.\n",
    "Next up: **🔠 Type Annotations** → deeper control with Python typing.\n",
    "\n",
    "---\n"
   ]
  }
 ],
 "metadata": {
  "language_info": {
   "name": "python"
  }
 },
 "nbformat": 4,
 "nbformat_minor": 2
}
