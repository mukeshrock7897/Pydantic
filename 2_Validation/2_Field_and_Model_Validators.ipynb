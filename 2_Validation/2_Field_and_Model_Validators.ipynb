{
 "cells": [
  {
   "cell_type": "markdown",
   "metadata": {},
   "source": [
    "---\n",
    "\n",
    "# 🔍 Field and Model Validators\n",
    "\n",
    "### 🎯 Intent\n",
    "\n",
    "Add **custom validation logic** for individual fields or entire models using decorators.\n",
    "\n",
    "---\n",
    "\n",
    "### 🧩 Core Components\n",
    "\n",
    "1. **📝 Field Validators**\n",
    "\n",
    "   * Use `@field_validator(\"field_name\")`.\n",
    "   * Runs when validating that field.\n",
    "   * Example use: minimum length, allowed characters, trimming.\n",
    "\n",
    "2. **🏗 Model Validators**\n",
    "\n",
    "   * Use `@model_validator(mode=\"before\" | \"after\")`.\n",
    "   * **before** → runs on raw input dict.\n",
    "   * **after** → runs after fields validated (good for cross-field checks).\n",
    "\n",
    "3. **⚡ Multiple Validators**\n",
    "\n",
    "   * A field can have multiple validators.\n",
    "   * Execution order: outermost → innermost.\n",
    "\n",
    "4. **📋 Error Raising**\n",
    "\n",
    "   * Raise `ValueError` or `TypeError`.\n",
    "   * Pydantic wraps them into a structured `ValidationError`.\n",
    "\n",
    "---"
   ]
  },
  {
   "cell_type": "markdown",
   "metadata": {},
   "source": []
  }
 ],
 "metadata": {
  "language_info": {
   "name": "python"
  }
 },
 "nbformat": 4,
 "nbformat_minor": 2
}
