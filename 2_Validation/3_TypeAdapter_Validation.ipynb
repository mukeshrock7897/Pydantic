{
 "cells": [
  {
   "cell_type": "markdown",
   "metadata": {},
   "source": [
    "---\n",
    "\n",
    "# 🔧 TypeAdapter Validation\n",
    "\n",
    "### 🎯 Intent\n",
    "\n",
    "Validate **standalone Python types** (lists, dicts, tuples, etc.) without creating a `BaseModel`.\n",
    "\n",
    "---\n",
    "\n",
    "### 🧩 Core Components\n",
    "\n",
    "1. **📝 Create TypeAdapter**\n",
    "\n",
    "   * Define a `TypeAdapter` for any Python type.\n",
    "   * Example: list, dict, tuple, union types.\n",
    "\n",
    "2. **⚡ Methods**\n",
    "\n",
    "   * `.validate_python(obj)` → validate Python objects.\n",
    "   * `.validate_json(str)` → validate JSON input.\n",
    "\n",
    "3. **📦 Coercion**\n",
    "\n",
    "   * Converts compatible values automatically.\n",
    "   * Example: `[\"1\", 2]` → `[1, 2]`.\n",
    "\n",
    "4. **🛑 Error Handling**\n",
    "\n",
    "   * Raises `ValidationError` if input doesn’t match type.\n",
    "\n",
    "5. **🌍 Use Cases**\n",
    "\n",
    "   * Quick validation for configs, API payloads, ETL pipelines, etc.\n",
    "   * Avoids writing a full model when not needed.\n",
    "\n",
    "---\n"
   ]
  },
  {
   "cell_type": "markdown",
   "metadata": {},
   "source": []
  }
 ],
 "metadata": {
  "language_info": {
   "name": "python"
  }
 },
 "nbformat": 4,
 "nbformat_minor": 2
}
