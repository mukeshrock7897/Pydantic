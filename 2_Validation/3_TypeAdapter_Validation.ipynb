{
 "cells": [
  {
   "cell_type": "markdown",
   "metadata": {},
   "source": [
    "---\n",
    "\n",
    "# 🔧 TypeAdapter Validation\n",
    "\n",
    "### 🎯 Intent\n",
    "\n",
    "Validate **standalone Python types** (lists, dicts, tuples, etc.) without creating a `BaseModel`.\n",
    "\n",
    "---\n",
    "\n",
    "### 🧩 Core Components\n",
    "\n",
    "1. **📝 Create TypeAdapter**\n",
    "\n",
    "   * Define a `TypeAdapter` for any Python type.\n",
    "   * Example: list, dict, tuple, union types.\n",
    "\n",
    "2. **⚡ Methods**\n",
    "\n",
    "   * `.validate_python(obj)` → validate Python objects.\n",
    "   * `.validate_json(str)` → validate JSON input.\n",
    "\n",
    "3. **📦 Coercion**\n",
    "\n",
    "   * Converts compatible values automatically.\n",
    "   * Example: `[\"1\", 2]` → `[1, 2]`.\n",
    "\n",
    "4. **🛑 Error Handling**\n",
    "\n",
    "   * Raises `ValidationError` if input doesn’t match type.\n",
    "\n",
    "5. **🌍 Use Cases**\n",
    "\n",
    "   * Quick validation for configs, API payloads, ETL pipelines, etc.\n",
    "   * Avoids writing a full model when not needed.\n",
    "\n",
    "---\n"
   ]
  },
  {
   "cell_type": "code",
   "execution_count": 1,
   "metadata": {},
   "outputs": [
    {
     "name": "stdout",
     "output_type": "stream",
     "text": [
      "[1, 2, 3]\n",
      "❌ Error (list[int]): [{'type': 'int_parsing', 'loc': (0,), 'msg': 'Input should be a valid integer, unable to parse string as an integer', 'input': 'a', 'url': 'https://errors.pydantic.dev/2.11/v/int_parsing'}]\n",
      "{'a': 1.5, 'b': 2.0}\n",
      "123\n",
      "456\n",
      "[1, 2, 3]\n",
      "❌ Error (from JSON): [{'type': 'int_parsing', 'loc': (0,), 'msg': 'Input should be a valid integer, unable to parse string as an integer', 'input': 'a', 'url': 'https://errors.pydantic.dev/2.11/v/int_parsing'}, {'type': 'int_parsing', 'loc': (1,), 'msg': 'Input should be a valid integer, unable to parse string as an integer', 'input': 'b', 'url': 'https://errors.pydantic.dev/2.11/v/int_parsing'}]\n",
      "Config validated: {'host': 'localhost', 'port': '8000'}\n"
     ]
    }
   ],
   "source": [
    "from pydantic import TypeAdapter, ValidationError\n",
    "from typing import List, Dict, Union\n",
    "import json\n",
    "\n",
    "# 1. 📝 Simple list of integers\n",
    "int_list_adapter = TypeAdapter(List[int])\n",
    "\n",
    "print(int_list_adapter.validate_python([\"1\", 2, 3]))  \n",
    "# ✅ Coerces \"1\" → 1 → [1, 2, 3]\n",
    "\n",
    "try:\n",
    "    int_list_adapter.validate_python([\"a\", 2, 3])  # invalid\n",
    "except ValidationError as e:\n",
    "    print(\"❌ Error (list[int]):\", e.errors())\n",
    "\n",
    "\n",
    "# 2. 📝 Dict with string keys and float values\n",
    "dict_adapter = TypeAdapter(Dict[str, float])\n",
    "\n",
    "print(dict_adapter.validate_python({\"a\": \"1.5\", \"b\": 2}))  \n",
    "# ✅ Coerces \"1.5\" → 1.5\n",
    "\n",
    "\n",
    "# 3. 📝 Union type: str | int\n",
    "union_adapter = TypeAdapter(Union[int, str])\n",
    "\n",
    "print(union_adapter.validate_python(\"123\"))   # ✅ → \"123\" (string is valid)\n",
    "print(union_adapter.validate_python(456))     # ✅ → 456\n",
    "\n",
    "\n",
    "# 4. 📝 JSON validation\n",
    "json_adapter = TypeAdapter(List[int])\n",
    "\n",
    "print(json_adapter.validate_json(\"[1, 2, 3]\"))  \n",
    "# ✅ Valid JSON string → [1, 2, 3]\n",
    "\n",
    "try:\n",
    "    json_adapter.validate_json('[\"a\", \"b\"]')  # invalid\n",
    "except ValidationError as e:\n",
    "    print(\"❌ Error (from JSON):\", e.errors())\n",
    "\n",
    "\n",
    "# 5. 🌍 Real-world: quick config validation\n",
    "ConfigAdapter = TypeAdapter(Dict[str, Union[int, str]])\n",
    "\n",
    "valid_cfg = ConfigAdapter.validate_python({\"host\": \"localhost\", \"port\": \"8000\"})\n",
    "print(\"Config validated:\", valid_cfg)\n"
   ]
  },
  {
   "cell_type": "code",
   "execution_count": null,
   "metadata": {},
   "outputs": [],
   "source": []
  }
 ],
 "metadata": {
  "kernelspec": {
   "display_name": "genai-doc-chat",
   "language": "python",
   "name": "python3"
  },
  "language_info": {
   "codemirror_mode": {
    "name": "ipython",
    "version": 3
   },
   "file_extension": ".py",
   "mimetype": "text/x-python",
   "name": "python",
   "nbconvert_exporter": "python",
   "pygments_lexer": "ipython3",
   "version": "3.11.8"
  }
 },
 "nbformat": 4,
 "nbformat_minor": 2
}
