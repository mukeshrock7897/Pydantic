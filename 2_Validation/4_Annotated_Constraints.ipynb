{
 "cells": [
  {
   "cell_type": "markdown",
   "metadata": {},
   "source": [
    "---\n",
    "\n",
    "# 🏷️ Annotated Constraints\n",
    "\n",
    "### 🎯 Intent\n",
    "\n",
    "Use **`typing.Annotated`** with Pydantic constraints to make field rules **cleaner, modular, and reusable**.\n",
    "\n",
    "---\n",
    "\n",
    "### 🧩 Core Components\n",
    "\n",
    "1. **📝 Basic Usage**\n",
    "\n",
    "   * Attach constraints directly inside `Annotated`.\n",
    "   * Example: `age: Annotated[int, Field(ge=18, le=99)]`.\n",
    "\n",
    "2. **⚡ Multiple Constraints**\n",
    "\n",
    "   * Stack multiple rules inside `Annotated`.\n",
    "   * Example: `Annotated[str, Field(min_length=2, max_length=50)]`.\n",
    "\n",
    "3. **📦 Reusable Types**\n",
    "\n",
    "   * Define custom constrained types once, reuse everywhere.\n",
    "   * Example: `PositiveInt = Annotated[int, Field(gt=0)]`.\n",
    "\n",
    "4. **🔄 Works with TypeAdapter**\n",
    "\n",
    "   * `TypeAdapter` accepts `Annotated` types for standalone validation.\n",
    "\n",
    "5. **🌍 Benefits**\n",
    "\n",
    "   * Cleaner than repeating `Field(...)`.\n",
    "   * Great for consistency in shared schemas or libraries.\n",
    "\n",
    "---\n"
   ]
  },
  {
   "cell_type": "code",
   "execution_count": 1,
   "metadata": {},
   "outputs": [
    {
     "name": "stdout",
     "output_type": "stream",
     "text": [
      "Valid user: {'id': 1, 'name': 'Mukesh_Y', 'age': 25}\n",
      "\n",
      "Validation errors: [{'type': 'greater_than', 'loc': ('id',), 'msg': 'Input should be greater than 0', 'input': -1, 'ctx': {'gt': 0}, 'url': 'https://errors.pydantic.dev/2.11/v/greater_than'}, {'type': 'string_too_short', 'loc': ('name',), 'msg': 'String should have at least 3 characters', 'input': 'x', 'ctx': {'min_length': 3}, 'url': 'https://errors.pydantic.dev/2.11/v/string_too_short'}, {'type': 'greater_than_equal', 'loc': ('age',), 'msg': 'Input should be greater than or equal to 18', 'input': 15, 'ctx': {'ge': 18}, 'url': 'https://errors.pydantic.dev/2.11/v/greater_than_equal'}]\n",
      "\n",
      "Adapter valid: Cool_User\n",
      "Adapter error: [{'type': 'string_too_short', 'loc': (), 'msg': 'String should have at least 3 characters', 'input': 'x!', 'ctx': {'min_length': 3}, 'url': 'https://errors.pydantic.dev/2.11/v/string_too_short'}]\n"
     ]
    }
   ],
   "source": [
    "from typing import Annotated\n",
    "from pydantic import BaseModel, Field, TypeAdapter, ValidationError\n",
    "\n",
    "# 1. 📝 Reusable constrained types\n",
    "PositiveInt = Annotated[int, Field(gt=0)]\n",
    "Username = Annotated[str, Field(min_length=3, max_length=20, pattern=r\"^[a-zA-Z0-9_]+$\")]\n",
    "\n",
    "# 2. 🧱 Model using Annotated fields\n",
    "class User(BaseModel):\n",
    "    id: PositiveInt                # must be > 0\n",
    "    name: Username                 # min 3 chars, max 20, alphanumeric + underscore\n",
    "    age: Annotated[int, Field(ge=18, le=99)]  # must be between 18–99\n",
    "\n",
    "# ✅ Valid user\n",
    "u = User(id=1, name=\"Mukesh_Y\", age=25)\n",
    "print(\"Valid user:\", u.model_dump())\n",
    "\n",
    "# ❌ Invalid user (age too low, name too short)\n",
    "try:\n",
    "    User(id=-1, name=\"x\", age=15)\n",
    "except ValidationError as e:\n",
    "    print(\"\\nValidation errors:\", e.errors())\n",
    "\n",
    "# 3. 🔄 Works with TypeAdapter\n",
    "adapter = TypeAdapter(Username)\n",
    "print(\"\\nAdapter valid:\", adapter.validate_python(\"Cool_User\"))\n",
    "\n",
    "try:\n",
    "    adapter.validate_python(\"x!\")  # invalid\n",
    "except ValidationError as e:\n",
    "    print(\"Adapter error:\", e.errors())\n"
   ]
  },
  {
   "cell_type": "code",
   "execution_count": null,
   "metadata": {},
   "outputs": [],
   "source": []
  }
 ],
 "metadata": {
  "kernelspec": {
   "display_name": "genai-doc-chat",
   "language": "python",
   "name": "python3"
  },
  "language_info": {
   "codemirror_mode": {
    "name": "ipython",
    "version": 3
   },
   "file_extension": ".py",
   "mimetype": "text/x-python",
   "name": "python",
   "nbconvert_exporter": "python",
   "pygments_lexer": "ipython3",
   "version": "3.11.8"
  }
 },
 "nbformat": 4,
 "nbformat_minor": 2
}
