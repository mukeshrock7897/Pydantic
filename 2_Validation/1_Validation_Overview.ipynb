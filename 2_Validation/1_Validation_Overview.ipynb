{
 "cells": [
  {
   "cell_type": "markdown",
   "metadata": {},
   "source": [
    "\n",
    "---\n",
    "\n",
    "# ✅ Validation Overview\n",
    "\n",
    "### 🎯 Intent\n",
    "\n",
    "Understand **how Pydantic validates data** at different levels: fields, models, and arbitrary types.\n",
    "\n",
    "---\n",
    "\n",
    "### 🧩 Core Components\n",
    "\n",
    "1. **⚡ Automatic Validation**\n",
    "\n",
    "   * Runs whenever a model is created.\n",
    "   * Converts compatible types (e.g., `\"1\"` → `1`).\n",
    "   * Raises `ValidationError` if input is invalid.\n",
    "\n",
    "2. **🧱 Field-Level Validation**\n",
    "\n",
    "   * Controlled by type hints + `Field(...)` constraints.\n",
    "   * Example: enforce ranges, lengths, regex, etc.\n",
    "\n",
    "3. **🧩 Model-Level Validation**\n",
    "\n",
    "   * Use `@model_validator` for rules involving multiple fields.\n",
    "   * Example: check if two passwords match.\n",
    "\n",
    "4. **🔧 TypeAdapter Validation**\n",
    "\n",
    "   * Validate plain Python types directly (without a model).\n",
    "   * Works with lists, dicts, unions, etc.\n",
    "\n",
    "5. **📋 ValidationError Structure**\n",
    "\n",
    "   * Provides detailed error breakdown per field.\n",
    "   * Includes error type, location, and human-readable message.\n",
    "\n",
    "---\n"
   ]
  },
  {
   "cell_type": "markdown",
   "metadata": {},
   "source": []
  }
 ],
 "metadata": {
  "language_info": {
   "name": "python"
  }
 },
 "nbformat": 4,
 "nbformat_minor": 2
}
