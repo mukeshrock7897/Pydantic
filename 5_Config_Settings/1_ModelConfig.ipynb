{
 "cells": [
  {
   "cell_type": "markdown",
   "metadata": {},
   "source": [
    "---\n",
    "\n",
    "# ⚙️ ModelConfig\n",
    "\n",
    "### 🎯 Intent\n",
    "\n",
    "Control **global behavior of a model** (strictness, extra fields, aliasing, serialization, schema tweaks) using **`model_config`** in Pydantic v2.\n",
    "\n",
    "---\n",
    "\n",
    "### 🧩 Core Components\n",
    "\n",
    "1. **🧩 `model_config: ConfigDict`**\n",
    "\n",
    "   * Central place to tune validation/serialization.\n",
    "   * Example keys: `title`, `strict`, `extra`, `json_schema_extra`.\n",
    "\n",
    "2. **🔒 Strict Mode**\n",
    "\n",
    "   * `strict=True` → no coercion (`\"1\"` ❌ won’t become `1`).\n",
    "   * Good for APIs needing exact types.\n",
    "\n",
    "3. **🧱 Extra Fields Policy**\n",
    "\n",
    "   * `extra=\"ignore\"` → drop unknown keys.\n",
    "   * `extra=\"allow\"` → keep them.\n",
    "   * `extra=\"forbid\"` → raise error.\n",
    "\n",
    "4. **🏷️ Aliases & Population**\n",
    "\n",
    "   * `populate_by_name=True` → allow both attribute and alias names in input/output.\n",
    "\n",
    "5. **📤 Serialization Defaults**\n",
    "\n",
    "   * Options like `ser_json_inf_nan`, `ser_json_timedelta`.\n",
    "   * `json_schema_extra={...}` → inject custom OpenAPI fields.\n",
    "\n",
    "6. **🧪 Validation Tuning**\n",
    "\n",
    "   * `validate_default=True|False` → validate default values.\n",
    "   * `from_attributes=True` → ORM/attribute mode (like v1’s `orm_mode`).\n",
    "   * `use_attribute_docstrings=True` → field docs from attribute docstrings.\n",
    "\n",
    "7. **🧰 Inheritance & Overrides**\n",
    "\n",
    "   * Child models inherit config.\n",
    "   * Override by redefining `ConfigDict`.\n",
    "\n",
    "8. **🧠 Common Presets**\n",
    "\n",
    "   * **Strict APIs:** `strict=True`, `extra=\"forbid\"`.\n",
    "   * **DB/ORM models:** `from_attributes=True`.\n",
    "   * **Public JSON:** use `json_schema_extra` + `populate_by_name=True`.\n",
    "\n",
    "---\n"
   ]
  },
  {
   "cell_type": "markdown",
   "metadata": {},
   "source": []
  }
 ],
 "metadata": {
  "language_info": {
   "name": "python"
  }
 },
 "nbformat": 4,
 "nbformat_minor": 2
}
