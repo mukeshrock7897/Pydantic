{
 "cells": [
  {
   "cell_type": "markdown",
   "metadata": {},
   "source": [
    "---\n",
    "\n",
    "# 🏎️ Best Practices — Perf Recap\n",
    "\n",
    "### 🎯 Intent\n",
    "\n",
    "Keep Pydantic v2 **fast & efficient** for large payloads and hot paths.\n",
    "\n",
    "---\n",
    "\n",
    "### 🧩 Core Tips\n",
    "\n",
    "1. **⚡ Use `TypeAdapter`** for raw/bulk types.\n",
    "2. **📦 Batch validate** lists instead of per-item loops.\n",
    "3. **🔀 Prefer discriminated unions** for speed + clear errors.\n",
    "4. **🧱 Keep models shallow** on hot paths.\n",
    "5. **🔒 Strictness selectively** — only for IDs/money.\n",
    "6. **🧰 Lightweight validators** — avoid I/O, heavy regex.\n",
    "7. **♻️ Reuse models/adapters** (benefit from schema cache).\n",
    "8. **📤 Dump smartly** — `python` for internal, `json` for API.\n",
    "9. **🎛 Use filters sparingly** (`exclude_*` only when needed).\n",
    "10. **🧪 Minimal constraints** — move heavy rules outside models.\n",
    "11. **🧮 Optimize datetime/decimal** — serialize once at edges.\n",
    "12. **🗂 ORM mode wisely** — preload relations to avoid lazy DB hits.\n",
    "13. **🧯 Batch errors** — log once with row indexes.\n",
    "14. **🧠 Skip default validation** if safe (`validate_default=False`).\n",
    "15. **📊 Benchmark** with real payloads, not assumptions.\n",
    "\n",
    "---\n"
   ]
  },
  {
   "cell_type": "markdown",
   "metadata": {},
   "source": []
  }
 ],
 "metadata": {
  "language_info": {
   "name": "python"
  }
 },
 "nbformat": 4,
 "nbformat_minor": 2
}
