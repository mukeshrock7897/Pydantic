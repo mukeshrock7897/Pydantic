{
 "cells": [
  {
   "cell_type": "markdown",
   "metadata": {},
   "source": [
    "---\n",
    "\n",
    "# ⚠️ Best Practices — Common Pitfalls\n",
    "\n",
    "### 🎯 Intent\n",
    "\n",
    "Avoid **mistakes** in Pydantic v2 that cause bugs, leaks, or slow performance.\n",
    "\n",
    "---\n",
    "\n",
    "### 🧩 Core Pitfalls\n",
    "\n",
    "1. **🚫 Overusing `Optional`**\n",
    "\n",
    "   * Don’t mark everything optional — only if `None` is valid.\n",
    "\n",
    "2. **🔄 Business Logic in Models**\n",
    "\n",
    "   * Models = validation/serialization only, not DB/IO.\n",
    "\n",
    "3. **📦 Excessive Nesting**\n",
    "\n",
    "   * Deep models slow validation; keep flat on hot paths.\n",
    "\n",
    "4. **🔒 Extra Fields Allowed**\n",
    "\n",
    "   * Default accepts unknown input → set `extra=\"forbid\"`.\n",
    "\n",
    "5. **🛡️ Secrets in Dumps**\n",
    "\n",
    "   * Use `SecretStr` / serializers to mask before returning.\n",
    "\n",
    "6. **⚡ Row-by-Row Validation**\n",
    "\n",
    "   * Use `TypeAdapter(list[Model])` for bulk, not per row.\n",
    "\n",
    "7. **🔗 Plain Unions**\n",
    "\n",
    "   * Without discriminator = slow/vague. Use `Field(discriminator=\"...\")`.\n",
    "\n",
    "8. **🧪 Weak Error Handling**\n",
    "\n",
    "   * Don’t leak raw errors. Normalize into field/message format.\n",
    "\n",
    "9. **📤 v1 Methods**\n",
    "\n",
    "   * `.dict()` / `.json()` deprecated → use `model_dump()` / `model_dump_json()`.\n",
    "\n",
    "10. **🧰 Missing Schema Extras**\n",
    "\n",
    "* Add `title`, `description`, `examples` for clarity/docs.\n",
    "\n",
    "---\n"
   ]
  },
  {
   "cell_type": "markdown",
   "metadata": {},
   "source": []
  }
 ],
 "metadata": {
  "language_info": {
   "name": "python"
  }
 },
 "nbformat": 4,
 "nbformat_minor": 2
}
