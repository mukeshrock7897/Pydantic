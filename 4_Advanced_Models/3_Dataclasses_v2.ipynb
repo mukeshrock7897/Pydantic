{
 "cells": [
  {
   "cell_type": "markdown",
   "metadata": {},
   "source": [
    "\n",
    "---\n",
    "\n",
    "# 🏛️ Dataclasses in Pydantic v2\n",
    "\n",
    "### 🎯 Intent\n",
    "\n",
    "Use **Python dataclasses with Pydantic validation** — simple containers, but with parsing, constraints, and serialization.\n",
    "\n",
    "---\n",
    "\n",
    "### 🧩 Core Components\n",
    "\n",
    "1. **📦 Pydantic Dataclass**\n",
    "\n",
    "   * Use `@pydantic.dataclasses.dataclass`.\n",
    "   * Behaves like a regular dataclass but with validation.\n",
    "\n",
    "2. **⚡ Validation**\n",
    "\n",
    "   * Fields auto-coerce to the right types.\n",
    "   * Invalid input raises `ValidationError`.\n",
    "\n",
    "3. **🧰 Config & Strictness**\n",
    "\n",
    "   * Attach `ConfigDict` with `__pydantic_config__`.\n",
    "   * Options: `strict=True`, `extra=\"forbid\"`, etc.\n",
    "\n",
    "4. **📤 Serialization**\n",
    "\n",
    "   * `.model_dump()` → dict\n",
    "   * `.model_dump_json()` → JSON string\n",
    "\n",
    "   Just like `BaseModel`.\n",
    "\n",
    "5. **🧱 Nested Dataclasses**\n",
    "\n",
    "   * Validates recursively inside lists, dicts, or other dataclasses.\n",
    "\n",
    "6. **🔧 Interop with BaseModel**\n",
    "\n",
    "   * You can nest dataclasses inside `BaseModel` fields and vice versa.\n",
    "\n",
    "7. **⚙️ Difference from stdlib**\n",
    "\n",
    "   * **Stdlib dataclass** = only storage.\n",
    "   * **Pydantic dataclass** = storage **+ validation + serialization**.\n",
    "\n",
    "---\n"
   ]
  },
  {
   "cell_type": "code",
   "execution_count": 1,
   "metadata": {},
   "outputs": [
    {
     "name": "stdout",
     "output_type": "stream",
     "text": [
      "Validation failed: [{'type': 'int_type', 'loc': ('id',), 'msg': 'Input should be a valid integer', 'input': '123', 'url': 'https://errors.pydantic.dev/2.11/v/int_type'}]\n"
     ]
    }
   ],
   "source": [
    "from pydantic.dataclasses import dataclass\n",
    "from pydantic import ValidationError, ConfigDict\n",
    "from typing import List\n",
    "\n",
    "# ✅ Define a dataclass with validation\n",
    "@dataclass\n",
    "class User:\n",
    "    __pydantic_config__ = ConfigDict(extra=\"forbid\", strict=True)  # optional config\n",
    "\n",
    "    id: int\n",
    "    name: str\n",
    "    tags: List[str] = None\n",
    "\n",
    "# ⚡ Usage\n",
    "try:\n",
    "    u = User(id=\"123\", name=\"Mukesh\", tags=[\"ai\", \"engineer\"])  # \"123\" auto-converts to int\n",
    "    print(u)                        # User(id=123, name='Mukesh', tags=['ai', 'engineer'])\n",
    "    print(u.__pydantic_model__.model_dump())   # dict serialization\n",
    "    print(u.__pydantic_model__.model_dump_json())  # JSON serialization\n",
    "\n",
    "    # ❌ Invalid input → raises ValidationError\n",
    "    bad = User(id=\"oops\", name=123)  \n",
    "except ValidationError as e:\n",
    "    print(\"Validation failed:\", e.errors())\n"
   ]
  },
  {
   "cell_type": "code",
   "execution_count": null,
   "metadata": {},
   "outputs": [],
   "source": []
  }
 ],
 "metadata": {
  "kernelspec": {
   "display_name": "genai-doc-chat",
   "language": "python",
   "name": "python3"
  },
  "language_info": {
   "codemirror_mode": {
    "name": "ipython",
    "version": 3
   },
   "file_extension": ".py",
   "mimetype": "text/x-python",
   "name": "python",
   "nbconvert_exporter": "python",
   "pygments_lexer": "ipython3",
   "version": "3.11.8"
  }
 },
 "nbformat": 4,
 "nbformat_minor": 2
}
