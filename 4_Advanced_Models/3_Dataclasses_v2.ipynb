{
 "cells": [
  {
   "cell_type": "markdown",
   "metadata": {},
   "source": [
    "\n",
    "---\n",
    "\n",
    "# 🏛️ Dataclasses v2\n",
    "\n",
    "### 🎯 Intent\n",
    "\n",
    "Use **Python dataclasses with Pydantic validation** — simple containers, but with parsing, constraints, and serialization.\n",
    "\n",
    "---\n",
    "\n",
    "### 🧩 Core Components\n",
    "\n",
    "1. **📦 Pydantic Dataclass**\n",
    "\n",
    "   * Use `@pydantic.dataclasses.dataclass`.\n",
    "   * Looks like normal dataclass, but validated.\n",
    "\n",
    "2. **⚡ Validation**\n",
    "\n",
    "   * Auto-coerces types.\n",
    "   * Invalid input → `ValidationError`.\n",
    "\n",
    "3. **🧰 Config & Strictness**\n",
    "\n",
    "   * Supports `ConfigDict` via `__pydantic_config__`.\n",
    "   * Enable strict mode to block coercion.\n",
    "\n",
    "4. **📤 Serialization**\n",
    "\n",
    "   * `.model_dump()` / `.model_dump_json()` work like `BaseModel`.\n",
    "\n",
    "5. **🧱 Nested Dataclasses**\n",
    "\n",
    "   * Validates recursively inside lists/dicts.\n",
    "\n",
    "6. **🔧 Mix with BaseModel**\n",
    "\n",
    "   * Can combine freely with `BaseModel`.\n",
    "\n",
    "7. **⚙️ Difference from stdlib**\n",
    "\n",
    "   * Stdlib = storage only.\n",
    "   * Pydantic = validation + serialization too.\n",
    "\n",
    "---\n"
   ]
  }
 ],
 "metadata": {
  "language_info": {
   "name": "python"
  }
 },
 "nbformat": 4,
 "nbformat_minor": 2
}
