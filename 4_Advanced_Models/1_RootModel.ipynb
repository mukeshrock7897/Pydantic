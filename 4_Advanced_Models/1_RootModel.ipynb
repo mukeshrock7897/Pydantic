{
 "cells": [
  {
   "cell_type": "markdown",
   "metadata": {},
   "source": [
    "\n",
    "---\n",
    "\n",
    "# 🌱 RootModel\n",
    "\n",
    "### 🎯 Intent\n",
    "\n",
    "Define models where the **top-level value isn’t a dict** (like a list, tuple, or primitive).\n",
    "\n",
    "\n",
    "---\n",
    "\n",
    "### 🧩 Core Components\n",
    "\n",
    "1. **🌳 Declare**\n",
    "\n",
    "   * `class Tags(RootModel[list[str]]): ...`\n",
    "   * The entire model = one root type.\n",
    "\n",
    "2. **🪵 Access**\n",
    "\n",
    "   * Use `.root` to read/write the value directly.\n",
    "\n",
    "3. **📦 Validation & Serialization**\n",
    "\n",
    "   * Full validation on the root type.\n",
    "   * `.model_dump()` / `.model_dump_json()` return the raw value.\n",
    "\n",
    "4. **🧪 Validators (optional)**\n",
    "\n",
    "   * `@field_validator(\"root\")` → validate list items or scalar.\n",
    "---"
   ]
  },
  {
   "cell_type": "code",
   "execution_count": 1,
   "metadata": {},
   "outputs": [
    {
     "name": "stdout",
     "output_type": "stream",
     "text": [
      "['pydantic', 'fastapi', 'validation']\n",
      "['pydantic', 'fastapi', 'validation']\n",
      "1 validation error for Tags\n",
      "  Value error, Tags cannot be empty [type=value_error, input_value=['pydantic', ' '], input_type=list]\n",
      "    For further information visit https://errors.pydantic.dev/2.11/v/value_error\n"
     ]
    }
   ],
   "source": [
    "from pydantic import RootModel, field_validator\n",
    "from typing import List\n",
    "\n",
    "# 🌱 A RootModel wrapping a list of strings\n",
    "class Tags(RootModel[List[str]]):\n",
    "    # Validate each tag\n",
    "    @field_validator(\"root\")\n",
    "    @classmethod\n",
    "    def no_empty_tags(cls, tags):\n",
    "        if any(not t.strip() for t in tags):\n",
    "            raise ValueError(\"Tags cannot be empty\")\n",
    "        return tags\n",
    "\n",
    "# ✅ Valid input\n",
    "valid = Tags.model_validate([\"pydantic\", \"fastapi\", \"validation\"])\n",
    "print(valid.root)         # ['pydantic', 'fastapi', 'validation']\n",
    "print(valid.model_dump()) # ['pydantic', 'fastapi', 'validation']\n",
    "\n",
    "# ❌ Invalid input (empty tag)\n",
    "try:\n",
    "    Tags.model_validate([\"pydantic\", \" \"])\n",
    "except Exception as e:\n",
    "    print(e)\n"
   ]
  },
  {
   "cell_type": "code",
   "execution_count": null,
   "metadata": {},
   "outputs": [],
   "source": []
  }
 ],
 "metadata": {
  "kernelspec": {
   "display_name": "genai-doc-chat",
   "language": "python",
   "name": "python3"
  },
  "language_info": {
   "codemirror_mode": {
    "name": "ipython",
    "version": 3
   },
   "file_extension": ".py",
   "mimetype": "text/x-python",
   "name": "python",
   "nbconvert_exporter": "python",
   "pygments_lexer": "ipython3",
   "version": "3.11.8"
  }
 },
 "nbformat": 4,
 "nbformat_minor": 2
}
