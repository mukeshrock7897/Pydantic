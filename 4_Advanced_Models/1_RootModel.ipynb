{
 "cells": [
  {
   "cell_type": "markdown",
   "metadata": {},
   "source": [
    "# 🌱 RootModel\n",
    "\n",
    "### 🎯 Intent\n",
    "\n",
    "Model data whose **top-level isn’t a dict** (e.g., a list, tuple, or primitive). Wrap a single *root* value with full Pydantic validation/serialization—cleaner than v1’s `__root__`.\n",
    "\n",
    "---\n",
    "\n",
    "### 🧩 Core Components\n",
    "\n",
    "1. **🌳 `RootModel[T]`**\n",
    "\n",
    "   * A model whose **root** is type `T` (e.g., `list[int]`, `str`, `tuple[...]`).\n",
    "\n",
    "2. **🪵 `.root` attribute**\n",
    "\n",
    "   * Read/write the wrapped value via `.root` (no extra dict nesting).\n",
    "\n",
    "3. **📦 Validate non-dict payloads**\n",
    "\n",
    "   * Full validation for lists, tuples, primitives, including nested/annotated/strict types.\n",
    "\n",
    "4. **📤 Serialization**\n",
    "\n",
    "   * `.model_dump()` / `.model_dump_json()` **return the root value directly** (not `{\"root\": ...}`).\n",
    "\n",
    "5. **🧪 Validators on root**\n",
    "\n",
    "   * `@field_validator(\"root\")` for element-level rules.\n",
    "   * `@model_validator(mode=\"after\")` for cross-item/global checks.\n",
    "\n",
    "6. **🧰 When to use**\n",
    "\n",
    "   * Endpoints that POST/GET a **raw array/value**.\n",
    "   * Config keys that are a **single scalar/sequence**.\n",
    "   * ETL steps producing **flat collections**.\n",
    "\n",
    "---"
   ]
  },
  {
   "cell_type": "markdown",
   "metadata": {},
   "source": []
  }
 ],
 "metadata": {
  "language_info": {
   "name": "python"
  }
 },
 "nbformat": 4,
 "nbformat_minor": 2
}
