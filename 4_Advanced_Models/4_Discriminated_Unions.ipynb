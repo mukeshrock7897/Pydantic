{
 "cells": [
  {
   "cell_type": "markdown",
   "metadata": {},
   "source": [
    "---\n",
    "\n",
    "# 🧭 Discriminated Unions\n",
    "\n",
    "### 🎯 Intent\n",
    "\n",
    "Model **either/or shapes** (variants) where Pydantic auto-picks the right schema using a **discriminator field**.\n",
    "\n",
    "---\n",
    "\n",
    "### 🧩 Core Components\n",
    "\n",
    "1. **🏷️ Discriminator Field**\n",
    "\n",
    "   * A fixed key (e.g., `kind`) present in all variants.\n",
    "   * Identifies which model to use (`\"card\"`, `\"upi\"`, etc.).\n",
    "\n",
    "2. **🔀 Union of Variants**\n",
    "\n",
    "   * Each variant = its own `BaseModel`.\n",
    "   * Combine with `Union[...]` or `|`.\n",
    "\n",
    "3. **🧩 `Field(discriminator=\"...\")`**\n",
    "\n",
    "   * Marks which field is the switch.\n",
    "   * Applied at the union field site.\n",
    "\n",
    "4. **✅ Validation Flow**\n",
    "\n",
    "   * Reads the discriminator → routes to correct variant.\n",
    "   * Gives clear, variant-specific errors.\n",
    "\n",
    "5. **📤 Serialization & Schema**\n",
    "\n",
    "   * `model_dump()` → returns chosen variant as-is (with `kind`).\n",
    "   * `model_json_schema()` → emits `oneOf` + discriminator mapping.\n",
    "\n",
    "6. **🧱 Best Practices**\n",
    "\n",
    "   * Use consistent discriminator values (`Literal[...]`).\n",
    "   * Make the discriminator required.\n",
    "   * Use meaningful, stable labels.\n",
    "\n",
    "---\n"
   ]
  },
  {
   "cell_type": "markdown",
   "metadata": {},
   "source": []
  }
 ],
 "metadata": {
  "language_info": {
   "name": "python"
  }
 },
 "nbformat": 4,
 "nbformat_minor": 2
}
