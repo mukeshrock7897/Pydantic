{
 "cells": [
  {
   "cell_type": "markdown",
   "metadata": {},
   "source": [
    "\n",
    "---\n",
    "\n",
    "# 🧭 Discriminated Unions\n",
    "\n",
    "### 🎯 Intent\n",
    "\n",
    "Handle **different shapes of data** in one field, where a **discriminator key** decides which model to use.\n",
    "\n",
    "---\n",
    "\n",
    "### 🧩 Core Components\n",
    "\n",
    "1. **🏷️ Discriminator Field**\n",
    "\n",
    "   * A special key (like `kind`) in every variant.\n",
    "   * Example: `\"card\"` vs `\"upi\"`.\n",
    "\n",
    "2. **🔀 Variants as Models**\n",
    "\n",
    "   * Each option is its own `BaseModel`.\n",
    "   * Combined with `Union[...]` or `|`.\n",
    "\n",
    "3. **🧩 `Field(discriminator=\"...\")`**\n",
    "\n",
    "   * Tells Pydantic which field is the switch.\n",
    "   * Example: `payment: Union[Card, Upi] = Field(..., discriminator=\"kind\")`.\n",
    "\n",
    "4. **✅ How It Works**\n",
    "\n",
    "   * Looks at `kind` → picks the right model.\n",
    "   * Gives **clear errors** if wrong type is passed.\n",
    "\n",
    "5. **📤 Serialization & Schema**\n",
    "\n",
    "   * `model_dump()` → returns the selected variant.\n",
    "   * `model_json_schema()` → generates `oneOf` with discriminator mapping.\n",
    "\n",
    "6. **🧱 Best Practices**\n",
    "\n",
    "   * Use **stable literal values** (`Literal[\"card\",\"upi\"]`).\n",
    "   * Keep `kind` **required**.\n",
    "   * Choose **clear labels** for long-term use.\n",
    "\n",
    "---\n"
   ]
  },
  {
   "cell_type": "code",
   "execution_count": 1,
   "metadata": {},
   "outputs": [
    {
     "name": "stdout",
     "output_type": "stream",
     "text": [
      "Card OK: {'payment': {'kind': 'card', 'card_number': '4111111111111111', 'amount': 100.0}}\n",
      "UPI OK: {'payment': {'kind': 'upi', 'upi_id': 'mukesh@upi', 'amount': 250.0}}\n",
      "Validation failed: [{'type': 'union_tag_invalid', 'loc': ('payment',), 'msg': \"Input tag 'paypal' found using 'kind' does not match any of the expected tags: 'card', 'upi'\", 'input': {'kind': 'paypal', 'email': 'test@example.com', 'amount': 50}, 'ctx': {'discriminator': \"'kind'\", 'tag': 'paypal', 'expected_tags': \"'card', 'upi'\"}, 'url': 'https://errors.pydantic.dev/2.11/v/union_tag_invalid'}]\n"
     ]
    }
   ],
   "source": [
    "from typing import Union, Literal\n",
    "from pydantic import BaseModel, Field, ValidationError\n",
    "\n",
    "# ✅ Variants\n",
    "class CardPayment(BaseModel):\n",
    "    kind: Literal[\"card\"]\n",
    "    card_number: str\n",
    "    amount: float\n",
    "\n",
    "class UpiPayment(BaseModel):\n",
    "    kind: Literal[\"upi\"]\n",
    "    upi_id: str\n",
    "    amount: float\n",
    "\n",
    "# ✅ Union with discriminator\n",
    "class PaymentRequest(BaseModel):\n",
    "    payment: Union[CardPayment, UpiPayment] = Field(..., discriminator=\"kind\")\n",
    "\n",
    "# ⚡ Usage\n",
    "try:\n",
    "    # Correct: card variant\n",
    "    card = PaymentRequest.model_validate({\n",
    "        \"payment\": {\"kind\": \"card\", \"card_number\": \"4111111111111111\", \"amount\": 100.0}\n",
    "    })\n",
    "    print(\"Card OK:\", card.model_dump())\n",
    "\n",
    "    # Correct: upi variant\n",
    "    upi = PaymentRequest.model_validate({\n",
    "        \"payment\": {\"kind\": \"upi\", \"upi_id\": \"mukesh@upi\", \"amount\": 250.0}\n",
    "    })\n",
    "    print(\"UPI OK:\", upi.model_dump())\n",
    "\n",
    "    # ❌ Wrong discriminator\n",
    "    bad = PaymentRequest.model_validate({\n",
    "        \"payment\": {\"kind\": \"paypal\", \"email\": \"test@example.com\", \"amount\": 50}\n",
    "    })\n",
    "except ValidationError as e:\n",
    "    print(\"Validation failed:\", e.errors())\n"
   ]
  },
  {
   "cell_type": "code",
   "execution_count": null,
   "metadata": {},
   "outputs": [],
   "source": []
  }
 ],
 "metadata": {
  "kernelspec": {
   "display_name": "genai-doc-chat",
   "language": "python",
   "name": "python3"
  },
  "language_info": {
   "codemirror_mode": {
    "name": "ipython",
    "version": 3
   },
   "file_extension": ".py",
   "mimetype": "text/x-python",
   "name": "python",
   "nbconvert_exporter": "python",
   "pygments_lexer": "ipython3",
   "version": "3.11.8"
  }
 },
 "nbformat": 4,
 "nbformat_minor": 2
}
