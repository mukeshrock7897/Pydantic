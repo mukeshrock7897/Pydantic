{
 "cells": [
  {
   "cell_type": "markdown",
   "metadata": {},
   "source": [
    "\n",
    "---\n",
    "\n",
    "# 🧬 Generic Models\n",
    "\n",
    "### 🎯 Intent\n",
    "\n",
    "Create **reusable, type-safe containers** (like `Page[User]`, `ApiResponse[int]`) using Python generics in Pydantic v2.\n",
    "\n",
    "---\n",
    "\n",
    "### 🧩 Core Components\n",
    "\n",
    "1. **🧪 Define a Generic**\n",
    "\n",
    "   * Use `TypeVar` + `Generic[T]`.\n",
    "   * Example:\n",
    "\n",
    "   ```python\n",
    "   T = TypeVar(\"T\")\n",
    "\n",
    "   class Box(BaseModel, Generic[T]):\n",
    "       item: T\n",
    "   ```\n",
    "\n",
    "2. **📦 Use with Concrete Types**\n",
    "\n",
    "   * Instantiate with real types:\n",
    "\n",
    "     * `Box[int](item=1)`\n",
    "     * `Box[str](item=\"hi\")`\n",
    "\n",
    "3. **🔁 Nested Generics**\n",
    "\n",
    "   * Build wrappers like:\n",
    "\n",
    "   ```python\n",
    "   class Page(BaseModel, Generic[T]):\n",
    "       items: list[T]\n",
    "       total: int\n",
    "   ```\n",
    "\n",
    "   * `Page[User]` → validates a list of `User`.\n",
    "\n",
    "4. **📤 Serialization & Schema**\n",
    "\n",
    "   * `.model_dump()` works normally.\n",
    "   * `.model_json_schema()` shows correct type (e.g., `items` of `Page[User]` → `User` schema).\n",
    "\n",
    "5. **🧰 When to Use**\n",
    "\n",
    "   * Response wrappers (`ApiResponse[T]`)\n",
    "   * Pagination (`Page[T]`)\n",
    "   * Generic containers (e.g., `Pair[K, V]`)\n",
    "\n",
    "---\n"
   ]
  },
  {
   "cell_type": "code",
   "execution_count": 1,
   "metadata": {},
   "outputs": [
    {
     "name": "stdout",
     "output_type": "stream",
     "text": [
      "Box[int] → {'item': 123}\n",
      "Page[User] → {'items': [{'id': 1, 'name': 'Mukesh'}], 'total': 1}\n",
      "ApiResponse[User] → {'data': {'id': 42, 'name': 'Alice'}, 'error': None}\n",
      "Page[User] Schema → {'$defs': {'User': {'properties': {'id': {'title': 'Id', 'type': 'integer'}, 'name': {'title': 'Name', 'type': 'string'}}, 'required': ['id', 'name'], 'title': 'User', 'type': 'object'}}, 'properties': {'items': {'items': {'$ref': '#/$defs/User'}, 'title': 'Items', 'type': 'array'}, 'total': {'title': 'Total', 'type': 'integer'}}, 'required': ['items', 'total'], 'title': 'Page[User]', 'type': 'object'}\n"
     ]
    },
    {
     "name": "stderr",
     "output_type": "stream",
     "text": [
      "/opt/anaconda3/envs/genai-doc-chat/lib/python3.11/site-packages/pydantic/_migration.py:283: UserWarning: `pydantic.generics:GenericModel` has been moved to `pydantic.BaseModel`.\n",
      "  warnings.warn(f'`{import_path}` has been moved to `{new_location}`.')\n"
     ]
    }
   ],
   "source": [
    "from typing import TypeVar, Generic\n",
    "from pydantic import BaseModel\n",
    "from pydantic.generics import GenericModel\n",
    "\n",
    "# 👇 Define a type variable\n",
    "T = TypeVar(\"T\")\n",
    "\n",
    "# 1️⃣ Simple Generic Box\n",
    "class Box(GenericModel, Generic[T]):\n",
    "    item: T\n",
    "\n",
    "# 2️⃣ Pagination Wrapper\n",
    "class Page(GenericModel, Generic[T]):\n",
    "    items: list[T]\n",
    "    total: int\n",
    "\n",
    "# 3️⃣ API Response Wrapper\n",
    "class ApiResponse(GenericModel, Generic[T]):\n",
    "    data: T\n",
    "    error: str | None = None\n",
    "\n",
    "\n",
    "# ✅ Example Usage\n",
    "class User(BaseModel):\n",
    "    id: int\n",
    "    name: str\n",
    "\n",
    "if __name__ == \"__main__\":\n",
    "    # Box[int]\n",
    "    b = Box[int](item=123)\n",
    "    print(\"Box[int] →\", b.model_dump())\n",
    "\n",
    "    # Page[User]\n",
    "    page = Page[User](items=[{\"id\": 1, \"name\": \"Mukesh\"}], total=1)\n",
    "    print(\"Page[User] →\", page.model_dump())\n",
    "\n",
    "    # ApiResponse[User]\n",
    "    resp = ApiResponse[User](data={\"id\": 42, \"name\": \"Alice\"})\n",
    "    print(\"ApiResponse[User] →\", resp.model_dump())\n",
    "\n",
    "    # Schema Generation\n",
    "    print(\"Page[User] Schema →\", Page[User].model_json_schema())\n"
   ]
  },
  {
   "cell_type": "code",
   "execution_count": null,
   "metadata": {},
   "outputs": [],
   "source": []
  }
 ],
 "metadata": {
  "kernelspec": {
   "display_name": "genai-doc-chat",
   "language": "python",
   "name": "python3"
  },
  "language_info": {
   "codemirror_mode": {
    "name": "ipython",
    "version": 3
   },
   "file_extension": ".py",
   "mimetype": "text/x-python",
   "name": "python",
   "nbconvert_exporter": "python",
   "pygments_lexer": "ipython3",
   "version": "3.11.8"
  }
 },
 "nbformat": 4,
 "nbformat_minor": 2
}
