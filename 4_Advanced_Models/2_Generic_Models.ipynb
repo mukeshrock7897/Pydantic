{
 "cells": [
  {
   "cell_type": "markdown",
   "metadata": {},
   "source": [
    "---\n",
    "\n",
    "# 🧬 Generic Models\n",
    "\n",
    "### 🎯 Intent\n",
    "\n",
    "Build **reusable, type-safe models** (e.g., `Page[int]`, `ApiResponse[User]`) using Python generics in Pydantic v2.\n",
    "\n",
    "---\n",
    "\n",
    "### 🧩 Core Components\n",
    "\n",
    "1. **🧪 TypeVar & Generic**\n",
    "\n",
    "   * Define a type parameter (e.g., `T`) and inherit `Generic[T]`.\n",
    "   * Instantiate with concrete types (e.g., `Box[int]`, `Box[str]`).\n",
    "\n",
    "2. **📦 Parameterized Models**\n",
    "\n",
    "   * Bracket syntax binds types: `Box[int]`, `Box[User]`.\n",
    "   * Validation respects the bound type for each instantiation.\n",
    "\n",
    "3. **🔁 Nested & Composed Generics**\n",
    "\n",
    "   * Compose containers (e.g., `Page[T]` with `items: list[T]`).\n",
    "   * Validation recurses into nested items.\n",
    "\n",
    "4. **🧰 Constrained / Bounded TypeVars**\n",
    "\n",
    "   * Constrain options (e.g., only `int|float`) or bound to a base class/interface.\n",
    "\n",
    "5. **📤 Serialization & Schema**\n",
    "\n",
    "   * `.model_dump()` works as usual.\n",
    "   * `.model_json_schema()` reflects the bound type (e.g., `items` of `Page[User]` → `User` schema).\n",
    "\n",
    "6. **🧩 Defaults & Optional**\n",
    "\n",
    "   * Use `T | None` and defaults normally; type info is preserved per parameterization.\n",
    "\n",
    "7. **⚙️ TypeAdapter with Generics**\n",
    "\n",
    "   * Validate generic containers by binding the type then adapting (e.g., `list[T]`).\n",
    "\n",
    "8. **🧠 Common Patterns**\n",
    "\n",
    "   * **Result/Response wrappers:** `ApiResponse[T] = { data: T, error: str|None }`\n",
    "   * **Pagination:** `Page[T] = { items: list[T], total: int }`\n",
    "   * **Pairs/Maps:** `Pair[K, V] = { key: K, value: V }`\n",
    "\n",
    "---\n"
   ]
  },
  {
   "cell_type": "markdown",
   "metadata": {},
   "source": []
  }
 ],
 "metadata": {
  "language_info": {
   "name": "python"
  }
 },
 "nbformat": 4,
 "nbformat_minor": 2
}
