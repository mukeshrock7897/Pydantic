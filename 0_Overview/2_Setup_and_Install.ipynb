{
 "cells": [
  {
   "cell_type": "markdown",
   "metadata": {},
   "source": [
    "\n",
    "---\n",
    "\n",
    "# ⚙️ Setup and Install\n",
    "\n",
    "### 🎯 Intent\n",
    "\n",
    "Learn how to **install Pydantic v2** and verify it’s working.\n",
    "\n",
    "---\n",
    "\n",
    "### 📦 Installation\n",
    "\n",
    "| 📍 Method         | 💻 Command / Note                                               |\n",
    "| ----------------- | --------------------------------------------------------------- |\n",
    "| **pip (basic)**   | `pip install pydantic`                                          |\n",
    "| **with extras**   | `pip install \"pydantic[email]\"` → adds email validation support |\n",
    "| **upgrade**       | `pip install -U pydantic`                                       |\n",
    "| **check version** | `python -c \"import pydantic; print(pydantic.version.VERSION)\"`  |\n",
    "\n",
    "---\n",
    "\n",
    "### 🧪 Quick Test\n",
    "\n",
    "```python\n",
    "from pydantic import BaseModel\n",
    "\n",
    "class User(BaseModel):\n",
    "    id: int\n",
    "    name: str\n",
    "\n",
    "print(User(id=1, name=\"Alice\"))\n",
    "# → id=1 name='Alice'\n",
    "```\n",
    "\n",
    "---\n",
    "\n",
    "✅ **Key Takeaway**\n",
    "Installing Pydantic v2 is as simple as `pip install pydantic`. Always confirm version to avoid mixing with old v1 code.\n",
    "\n",
    "---"
   ]
  },
  {
   "cell_type": "markdown",
   "metadata": {},
   "source": []
  }
 ],
 "metadata": {
  "language_info": {
   "name": "python"
  }
 },
 "nbformat": 4,
 "nbformat_minor": 2
}
