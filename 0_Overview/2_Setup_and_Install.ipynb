{
 "cells": [
  {
   "cell_type": "markdown",
   "metadata": {},
   "source": [
    "\n",
    "---\n",
    "\n",
    "# ⚙️ Setup and Install\n",
    "\n",
    "### 🎯 Intent\n",
    "\n",
    "Learn how to **install Pydantic v2** and verify it’s working.\n",
    "\n",
    "---\n",
    "\n",
    "### 📦 Installation\n",
    "\n",
    "| 📍 Method         | 💻 Command / Note                                               |\n",
    "| ----------------- | --------------------------------------------------------------- |\n",
    "| **pip (basic)**   | `pip install pydantic`                                          |\n",
    "| **with extras**   | `pip install \"pydantic[email]\"` → adds email validation support |\n",
    "| **upgrade**       | `pip install -U pydantic`                                       |\n",
    "| **check version** | `python -c \"import pydantic; print(pydantic.version.VERSION)\"`  |\n",
    "\n",
    "---"
   ]
  },
  {
   "cell_type": "code",
   "execution_count": 1,
   "metadata": {},
   "outputs": [
    {
     "name": "stdout",
     "output_type": "stream",
     "text": [
      "id=1 name='Alice'\n"
     ]
    }
   ],
   "source": [
    "### 🧪 Quick Test\n",
    "\n",
    "from pydantic import BaseModel\n",
    "\n",
    "class User(BaseModel):\n",
    "    id: int\n",
    "    name: str\n",
    "\n",
    "print(User(id=1, name=\"Alice\"))"
   ]
  }
 ],
 "metadata": {
  "kernelspec": {
   "display_name": "genai-doc-chat",
   "language": "python",
   "name": "python3"
  },
  "language_info": {
   "codemirror_mode": {
    "name": "ipython",
    "version": 3
   },
   "file_extension": ".py",
   "mimetype": "text/x-python",
   "name": "python",
   "nbconvert_exporter": "python",
   "pygments_lexer": "ipython3",
   "version": "3.11.8"
  }
 },
 "nbformat": 4,
 "nbformat_minor": 2
}
