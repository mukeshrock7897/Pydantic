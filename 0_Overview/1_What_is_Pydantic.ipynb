{
 "cells": [
  {
   "cell_type": "markdown",
   "metadata": {},
   "source": [
    "\n",
    "---\n",
    "\n",
    "# 📘 What is Pydantic\n",
    "\n",
    "### 🎯 Intent\n",
    "\n",
    "* Pydantic is a Python library that makes data validation and data parsing simple. \n",
    "* It allows you to define type safety and constraints for your Python objects, ensuring that your data always remains in the correct format\n",
    "\n",
    "---\n",
    "\n",
    "### 🧩 Core Building Blocks\n",
    "\n",
    "| 🔑 Feature            | ⚡ Purpose                                        | 📝 Example / Note                                             |\n",
    "| --------------------- | ------------------------------------------------ | ------------------------------------------------------------- |\n",
    "| **📝 BaseModel**      | Define structured data schema with type checking | `class User(BaseModel): id: int; name: str`                   |\n",
    "| **⚡ ValidationError** | Raised when input doesn’t match schema rules     | `User(id=\"x\") ❌ → ValidationError`                            |\n",
    "| **🎛 Field(...)**     | Add constraints & metadata for fields            | `name: str = Field(min_length=2)`                             |\n",
    "| **🔒 Strict Types**   | Require exact type (no auto type coercion)       | `StrictInt`, or `ConfigDict(strict=True)`                     |\n",
    "| **🔧 TypeAdapter**    | Validate plain Python types (list, dict, etc.)   | `TypeAdapter(list[int]).validate_python([1,2,\"x\"])`           |\n",
    "| **✅ Validators**      | Add custom validation logic                      | `@field_validator(\"email\")`                                   |\n",
    "| **📤 Serialization**  | Export models → dict / JSON / JSON Schema        | `.model_dump()`, `.model_dump_json()`, `.model_json_schema()` |\n",
    "\n",
    "---\n",
    "\n"
   ]
  }
 ],
 "metadata": {
  "language_info": {
   "name": "python"
  }
 },
 "nbformat": 4,
 "nbformat_minor": 2
}
