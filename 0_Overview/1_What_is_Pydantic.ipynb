{
 "cells": [
  {
   "cell_type": "markdown",
   "metadata": {},
   "source": [
    "\n",
    "---\n",
    "\n",
    "# 📘 What is Pydantic\n",
    "\n",
    "### 🎯 Intent\n",
    "\n",
    "Understand **what Pydantic is**, why it’s useful, and the **key features in v2** with simple examples. This gives the foundation before learning setup, validation, and integrations.\n",
    "\n",
    "---\n",
    "\n",
    "### 🧩 Core Building Blocks\n",
    "\n",
    "| 🔑 Feature            | ⚡ Purpose                                                              | 📝 Example / Note                                                          |\n",
    "| --------------------- | ---------------------------------------------------------------------- | -------------------------------------------------------------------------- |\n",
    "| **📝 BaseModel**      | Define structured data models with validation, defaults, & type hints. | `class User(BaseModel): id: int; name: str` <br> `User(id=1, name=\"A\")`    |\n",
    "| **⚡ ValidationError** | Raised if input doesn’t match schema; gives detailed error info.       | `User(id=\"x\") ❌ → ValidationError`                                         |\n",
    "| **🎛 Field(...)**     | Add constraints & metadata for fields.                                 | `Field(..., min_length=2, ge=0)`                                           |\n",
    "| **🔒 Strict Types**   | No coercion → only exact type allowed.                                 | `StrictInt`, or `model_config = ConfigDict(strict=True)`                   |\n",
    "| **🔧 TypeAdapter**    | Validate plain Python types (lists, dicts, etc.) without a model.      | `TypeAdapter(list[int]).validate_python([1,2,\"x\"])`                        |\n",
    "| **✅ Validators**      | Add custom logic for fields or full models.                            | `@field_validator(\"email\")` <br> `@model_validator(mode=\"after\")`          |\n",
    "| **📤 Serialization**  | Export models or generate schema.                                      | <br> `.model_dump()` <br> `.model_dump_json()` <br> `.model_json_schema()` |\n",
    "\n",
    "---\n",
    "\n",
    "✅ **Key Takeaway**\n",
    "Pydantic v2 = **Type hints + Validation + Serialization** in one place. It makes your data safe, consistent, and ready for APIs, configs, or ML pipelines.\n",
    "\n",
    "---\n"
   ]
  }
 ],
 "metadata": {
  "language_info": {
   "name": "python"
  }
 },
 "nbformat": 4,
 "nbformat_minor": 2
}
