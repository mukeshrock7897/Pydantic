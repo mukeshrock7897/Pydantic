{
 "cells": [
  {
   "cell_type": "markdown",
   "metadata": {},
   "source": [
    "## ✅ **BaseModel – Define Data Models, Validation, Serialization**\n",
    "\n",
    "### 🧱 What is `BaseModel`?\n",
    "\n",
    "All your Pydantic models should **inherit from `BaseModel`**. This gives them validation, parsing, and more.\n",
    "\n",
    "---\n",
    "\n",
    "### ✨ Example:\n",
    "\n",
    "```python\n",
    "from pydantic import BaseModel\n",
    "\n",
    "class User(BaseModel):\n",
    "    id: int\n",
    "    name: str\n",
    "    is_active: bool = True   # Default value\n",
    "\n",
    "user = User(id=1, name=\"Mukesh\")\n",
    "print(user)\n",
    "```\n",
    "\n",
    "Output:\n",
    "\n",
    "```\n",
    "id=1 name='Mukesh' is_active=True\n",
    "```\n",
    "\n",
    "---\n",
    "\n",
    "### 🧪 Use cases:\n",
    "\n",
    "* API request/response models\n",
    "* Parsing user input\n",
    "* Modeling database schemas (in apps)\n",
    "\n",
    "---\n"
   ]
  }
 ],
 "metadata": {
  "language_info": {
   "name": "python"
  }
 },
 "nbformat": 4,
 "nbformat_minor": 2
}
