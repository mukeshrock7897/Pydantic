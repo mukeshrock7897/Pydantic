{
 "cells": [
  {
   "cell_type": "markdown",
   "metadata": {},
   "source": [
    "\n",
    "---\n",
    "\n",
    "## ✅ **Aliases – Rename Fields for External Data (like JSON)**\n",
    "\n",
    "### 🧠 What Are Aliases?\n",
    "\n",
    "> **Aliases let you use one name in your Python code and another in external data** (like JSON, APIs, or databases).\n",
    "\n",
    "Useful when:\n",
    "\n",
    "* API sends `user_name`, but you want to use `username` in code.\n",
    "* Field names are inconsistent between frontend/backend.\n",
    "\n",
    "---\n",
    "\n",
    "### ✅ Basic Example\n",
    "\n",
    "```python\n",
    "from pydantic import BaseModel, Field\n",
    "\n",
    "class User(BaseModel):\n",
    "    username: str = Field(..., alias=\"user_name\")\n",
    "\n",
    "# Input with alias\n",
    "data = {\"user_name\": \"Mukesh\"}\n",
    "user = User.model_validate(data)\n",
    "\n",
    "print(user.username)        # Mukesh\n",
    "print(user.model_dump())    # {'username': 'Mukesh'}\n",
    "```\n",
    "\n",
    "---\n",
    "\n",
    "### 📤 Export Using Alias\n",
    "\n",
    "By default, `model_dump()` uses internal names.\n",
    "To dump using the **alias**, pass `by_alias=True`:\n",
    "\n",
    "```python\n",
    "print(user.model_dump(by_alias=True))  \n",
    "# {'user_name': 'Mukesh'}\n",
    "```\n",
    "\n",
    "---\n"
   ]
  }
 ],
 "metadata": {
  "language_info": {
   "name": "python"
  }
 },
 "nbformat": 4,
 "nbformat_minor": 2
}
