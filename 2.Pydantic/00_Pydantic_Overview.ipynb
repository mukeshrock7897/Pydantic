{
 "cells": [
  {
   "cell_type": "markdown",
   "metadata": {},
   "source": [
    "\n",
    "---\n",
    "\n",
    "## ✅ **Pydantic Overview – What & Why?**\n",
    "\n",
    "### 🧠 What is Pydantic?\n",
    "\n",
    "> **Pydantic is a Python library** that helps you validate and parse data using **Python type hints**.\n",
    "\n",
    "It makes your code:\n",
    "\n",
    "* **Cleaner**: Define data shapes clearly\n",
    "* **Safer**: Catch bad input early\n",
    "* **Faster**: Auto-validation + serialization = less manual code\n",
    "\n",
    "---\n",
    "\n",
    "### 🎯 Why Use Pydantic?\n",
    "\n",
    "✅ Validate incoming API data (e.g. FastAPI requests)\n",
    "✅ Parse config files or `.env` variables\n",
    "✅ Convert JSON into typed Python objects\n",
    "✅ Ensure types like `EmailStr`, `HttpUrl`, etc., are valid\n",
    "✅ Works beautifully with **FastAPI**, **LangChain**, etc.\n",
    "\n",
    "---\n",
    "\n",
    "### 🔍 Example (Before vs After)\n",
    "\n",
    "#### ❌ Without Pydantic:\n",
    "\n",
    "```python\n",
    "def create_user(data: dict):\n",
    "    if \"name\" not in data or not isinstance(data[\"name\"], str):\n",
    "        raise ValueError(\"Invalid name\")\n",
    "    # more manual checks...\n",
    "```\n",
    "\n",
    "#### ✅ With Pydantic:\n",
    "\n",
    "```python\n",
    "from pydantic import BaseModel\n",
    "\n",
    "class User(BaseModel):\n",
    "    name: str\n",
    "\n",
    "user = User.model_validate({\"name\": \"Mukesh\"})\n",
    "```\n",
    "\n",
    "---\n"
   ]
  }
 ],
 "metadata": {
  "language_info": {
   "name": "python"
  }
 },
 "nbformat": 4,
 "nbformat_minor": 2
}
