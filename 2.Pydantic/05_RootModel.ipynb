{
 "cells": [
  {
   "cell_type": "markdown",
   "metadata": {},
   "source": [
    "\n",
    "---\n",
    "\n",
    "## ✅ **`RootModel` – For Wrapping a Single Value**\n",
    "\n",
    "### 🔍 What is `RootModel`?\n",
    "\n",
    "> `RootModel` is used when your model should **wrap a single type** like a list, string, or dict — instead of having multiple named fields.\n",
    "\n",
    "This is **new in Pydantic v2** and replaces the old `__root__` approach from v1.\n",
    "\n",
    "---\n",
    "\n",
    "### ✅ Basic Use Case: List of Strings\n",
    "\n",
    "```python\n",
    "from pydantic import RootModel\n",
    "\n",
    "class Tags(RootModel[list[str]]):\n",
    "    pass\n",
    "\n",
    "tags = Tags.model_validate([\"ai\", \"python\", \"fastapi\"])\n",
    "print(tags)\n",
    "print(tags.model_dump())  # -> ['ai', 'python', 'fastapi']\n",
    "```\n",
    "\n",
    "📌 This creates a model that **expects a list of strings** as input.\n",
    "\n",
    "---\n",
    "\n",
    "### ✅ Use Case 2: Dict of Values\n",
    "\n",
    "```python\n",
    "class Scores(RootModel[dict[str, float]]):\n",
    "    pass\n",
    "\n",
    "scores = Scores.model_validate({\"math\": 95.0, \"science\": 89.5})\n",
    "print(scores.model_dump())\n",
    "```\n",
    "\n",
    "---\n",
    "\n"
   ]
  },
  {
   "cell_type": "markdown",
   "metadata": {},
   "source": []
  }
 ],
 "metadata": {
  "language_info": {
   "name": "python"
  }
 },
 "nbformat": 4,
 "nbformat_minor": 2
}
