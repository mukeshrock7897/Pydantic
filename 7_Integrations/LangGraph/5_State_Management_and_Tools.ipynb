{
 "cells": [
  {
   "cell_type": "markdown",
   "metadata": {},
   "source": [
    "---\n",
    "\n",
    "# 🗂️ LangGraph — State Management & Tools\n",
    "\n",
    "### 🎯 Intent\n",
    "\n",
    "Control how **state updates flow across nodes** and integrate **tools** (functions, APIs) into the graph for predictable, resumable workflows.\n",
    "\n",
    "---\n",
    "\n",
    "### 🧩 Core Components\n",
    "\n",
    "1. **🧱 State Shape**\n",
    "\n",
    "   * Defined via `TypedDict` or dataclass.\n",
    "   * Each field has a **reducer** to merge updates.\n",
    "\n",
    "2. **➕ Reducers**\n",
    "\n",
    "   * `add_messages` → append chat logs.\n",
    "   * `plus` → extend lists / sum numbers.\n",
    "   * `merge` → combine dicts.\n",
    "\n",
    "3. **🛠️ Tool Integration**\n",
    "\n",
    "   * Tools are nodes that take structured input (often Pydantic).\n",
    "   * Return partial updates (e.g., add `\"results\"`).\n",
    "\n",
    "4. **🔗 Node ↔ Tool ↔ LLM**\n",
    "\n",
    "   * Flow: input → LLM → decide tool → tool node → back to LLM.\n",
    "   * Tools are first-class in the graph.\n",
    "\n",
    "5. **💾 Checkpointing**\n",
    "\n",
    "   * Use `MemorySaver` or DB to persist state.\n",
    "   * Enables multi-turn and crash recovery.\n",
    "\n",
    "6. **🧰 Updating State**\n",
    "\n",
    "   * Nodes return partial dicts → merged by reducers.\n",
    "   * Don’t mutate state in place.\n",
    "\n",
    "7. **🧭 State-Driven Flow**\n",
    "\n",
    "   * Conditional edges inspect state (e.g., tool calls).\n",
    "   * Guides branching decisions.\n",
    "\n",
    "8. **📊 Observability**\n",
    "\n",
    "   * Log state snapshots + tool inputs/outputs for debugging.\n",
    "\n",
    "---\n"
   ]
  },
  {
   "cell_type": "markdown",
   "metadata": {},
   "source": []
  }
 ],
 "metadata": {
  "language_info": {
   "name": "python"
  }
 },
 "nbformat": 4,
 "nbformat_minor": 2
}
