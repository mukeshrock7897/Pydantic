{
 "cells": [
  {
   "cell_type": "markdown",
   "metadata": {},
   "source": [
    "---\n",
    "\n",
    "# 🗃️ SQLAlchemy — ORM Models to Pydantic Schemas\n",
    "\n",
    "### 🎯 Intent\n",
    "\n",
    "Map **SQLAlchemy ORM models** to **Pydantic v2 schemas** for safe API input/output, handling relationships and hiding sensitive fields.\n",
    "\n",
    "---\n",
    "\n",
    "### 🧩 Core Components\n",
    "\n",
    "1. **🏗️ Enable ORM Reading**\n",
    "\n",
    "   * Use `ConfigDict(from_attributes=True)` so Pydantic can read ORM objects directly.\n",
    "\n",
    "2. **🧱 Separate DTOs (In / Out / Update)**\n",
    "\n",
    "   * **In** → client input (create).\n",
    "   * **Out** → public fields (exclude secrets).\n",
    "   * **Update** → all optional (for patch).\n",
    "\n",
    "3. **🔗 Relationships**\n",
    "\n",
    "   * Nest related models (e.g., `PostOut` includes `UserOut`).\n",
    "   * Use eager loading (`selectinload`, `joinedload`) to avoid lazy DB hits.\n",
    "\n",
    "4. **🛡️ Hide Sensitive Data**\n",
    "\n",
    "   * Exclude secrets in Out schemas.\n",
    "   * Use `@field_serializer` to mask sensitive values if needed.\n",
    "\n",
    "5. **📤 Serialize for API**\n",
    "\n",
    "   * Use `.model_dump()` / `.model_dump_json()`.\n",
    "   * Add `exclude_none=True` for clean responses.\n",
    "\n",
    "6. **🧰 Create & Update Flow**\n",
    "\n",
    "   * Validate with `UserIn` → create ORM → return `UserOut`.\n",
    "   * For updates, validate with `UserUpdate` and apply non-`None` fields.\n",
    "\n",
    "7. **⚙️ Performance**\n",
    "\n",
    "   * Validate lists in bulk with `TypeAdapter(list[OutModel])`.\n",
    "   * Keep schemas flat on hot paths.\n",
    "\n",
    "8. **🧪 Constraints & Enums**\n",
    "\n",
    "   * Apply Pydantic constraints (`EmailStr`, `Enum`, etc.) before persisting to DB.\n",
    "\n",
    "9. **🧭 Aliases**\n",
    "\n",
    "   * Use `Field(alias=\"...\")` + `by_alias=True` if API field names differ from ORM attributes.\n",
    "\n",
    "---\n"
   ]
  },
  {
   "cell_type": "markdown",
   "metadata": {},
   "source": []
  }
 ],
 "metadata": {
  "language_info": {
   "name": "python"
  }
 },
 "nbformat": 4,
 "nbformat_minor": 2
}
